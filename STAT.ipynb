{
  "nbformat": 4,
  "nbformat_minor": 0,
  "metadata": {
    "colab": {
      "provenance": [],
      "include_colab_link": true
    },
    "kernelspec": {
      "name": "python3",
      "display_name": "Python 3"
    },
    "language_info": {
      "name": "python"
    }
  },
  "cells": [
    {
      "cell_type": "markdown",
      "metadata": {
        "id": "view-in-github",
        "colab_type": "text"
      },
      "source": [
        "<a href=\"https://colab.research.google.com/github/00deepureddy/DBMS/blob/main/STAT.ipynb\" target=\"_parent\"><img src=\"https://colab.research.google.com/assets/colab-badge.svg\" alt=\"Open In Colab\"/></a>"
      ]
    },
    {
      "cell_type": "markdown",
      "source": [
        "PROGRAM 6\n",
        "\n"
      ],
      "metadata": {
        "id": "dKVT3AT4pAhl"
      }
    },
    {
      "cell_type": "code",
      "source": [
        " import numpy as np\n",
        " # Dataset\n",
        " data = [5, 7, 8, 6, 9, 6, 7, 8, 5, 6]\n",
        " # Range\n",
        " data_range = max(data)- min(data)\n",
        " # Mean\n",
        " mean = np.mean(data)\n",
        " # Mean Deviation\n",
        " mean_deviation = np.mean(np.abs(data- mean))\n",
        " # Variance\n",
        " variance = np.var(data)\n",
        " # Standard Deviation\n",
        " std_dev = np.std(data)\n",
        " # Output results\n",
        " print(f\"Range: {data_range}\")\n",
        " print(f\"Mean: {mean:.2f}\")\n",
        " print(f\"Mean Deviation: {mean_deviation:.2f}\")\n",
        " print(f\"Variance: {variance:.2f}\")\n",
        " print(f\"Standard Deviation: {std_dev:.2f}\")"
      ],
      "metadata": {
        "colab": {
          "base_uri": "https://localhost:8080/"
        },
        "id": "GKLTKGliy_OA",
        "outputId": "84af874e-2038-49ce-ff05-58aa56e3726e"
      },
      "execution_count": null,
      "outputs": [
        {
          "output_type": "stream",
          "name": "stdout",
          "text": [
            "Range: 4\n",
            "Mean: 6.70\n",
            "Mean Deviation: 1.10\n",
            "Variance: 1.61\n",
            "Standard Deviation: 1.27\n"
          ]
        }
      ]
    },
    {
      "cell_type": "markdown",
      "source": [
        "PROGRAM 7"
      ],
      "metadata": {
        "id": "sabg014Ppt43"
      }
    },
    {
      "cell_type": "code",
      "source": [
        "import numpy as np\n",
        "group1 = np.array([5, 6, 7, 5, 6])\n",
        "group2 = np.array([8, 9, 10, 9, 11])\n",
        "n1 = len(group1)\n",
        "n2 = len(group2)\n",
        "mean1 = np.mean(group1)\n",
        "mean2 = np.mean(group2)\n",
        "var1 = np.var(group1)\n",
        "var2 = np.var(group2)\n",
        "mean_combined = (n1 * mean1 + n2 * mean2) / (n1 + n2)\n",
        "var_combined = ((n1 * (var1 + (mean1 - mean_combined)**2)) +\n",
        "(n2 * (var2 + (mean2 - mean_combined)**2))) / (n1 + n2)\n",
        "std_combined = np.sqrt(var_combined)\n",
        "print(f\"Mean1: {mean1:.2f}, Mean2: {mean2:.2f}\")\n",
        "print(f\"Combined Mean: {mean_combined:.2f}\")\n",
        "print(f\"Combined Variance: {var_combined:.2f}\")\n",
        "print(f\"Combined Std Dev: {std_combined:.2f}\")"
      ],
      "metadata": {
        "colab": {
          "base_uri": "https://localhost:8080/"
        },
        "id": "M_vWeDrbXPP5",
        "outputId": "74b7ba35-9e92-4a04-af0a-d603375b88f9"
      },
      "execution_count": null,
      "outputs": [
        {
          "output_type": "stream",
          "name": "stdout",
          "text": [
            "Mean1: 5.80, Mean2: 9.40\n",
            "Combined Mean: 7.60\n",
            "Combined Variance: 4.04\n",
            "Combined Std Dev: 2.01\n"
          ]
        }
      ]
    },
    {
      "cell_type": "markdown",
      "source": [
        "PROGRAM 8\n"
      ],
      "metadata": {
        "id": "1BUiIkRkpypm"
      }
    },
    {
      "cell_type": "code",
      "source": [
        "import numpy as np\n",
        "from scipy.stats import pearsonr, spearmanr\n",
        "x = np.array([40, 50, 60, 70, 80])\n",
        "y = np.array([45, 60, 65, 80, 90])\n",
        "pearson_corr, _ = pearsonr(x, y)\n",
        "spearman_corr, _ = spearmanr(x, y)\n",
        "print(f\"Pearson Correlation: {pearson_corr:.2f}\")\n",
        "print(f\"Spearman Correlation: {spearman_corr:.2f}\")"
      ],
      "metadata": {
        "colab": {
          "base_uri": "https://localhost:8080/"
        },
        "id": "81aTLTzrXcH5",
        "outputId": "fa8cdb4f-8bb2-4deb-d155-357e77713a9a"
      },
      "execution_count": null,
      "outputs": [
        {
          "output_type": "stream",
          "name": "stdout",
          "text": [
            "Pearson Correlation: 0.99\n",
            "Spearman Correlation: 1.00\n"
          ]
        }
      ]
    },
    {
      "cell_type": "markdown",
      "source": [
        "PROGRAM 9\n"
      ],
      "metadata": {
        "id": "bfYXgZa8p8s5"
      }
    },
    {
      "cell_type": "code",
      "source": [
        "import numpy as np\n",
        "import matplotlib.pyplot as plt\n",
        "from sklearn.linear_model import LinearRegression\n",
        "X = np.array([2, 3, 4, 5, 6]).reshape(-1, 1)\n",
        "Y = np.array([40, 50, 65, 70, 85])\n",
        "model = LinearRegression()\n",
        "model.fit(X, Y)\n",
        "a = model.intercept_\n",
        "b = model.coef_[0]\n",
        "predicted = model.predict(np.array([[7]]))\n",
        "print(f\"Regression Equation: Y = {a:.2f} + {b:.2f}X\")\n",
        "print(f\"Predicted Y for X=7: {predicted[0]:.2f}\")\n",
        "plt.scatter(X, Y, color='blue', label='Data Points')\n",
        "plt.plot(X, model.predict(X), color='red', label='Regression Line')\n",
        "plt.title(\"Linear Regression Line\")\n",
        "plt.xlabel(\"Study Hours\")\n",
        "plt.ylabel(\"Marks\")\n",
        "plt.legend()\n",
        "plt.grid(True)\n",
        "plt.show()"
      ],
      "metadata": {
        "colab": {
          "base_uri": "https://localhost:8080/",
          "height": 507
        },
        "id": "IaN3onIkXs4E",
        "outputId": "4edc230a-e7d9-4477-e58c-523790969242"
      },
      "execution_count": null,
      "outputs": [
        {
          "output_type": "stream",
          "name": "stdout",
          "text": [
            "Regression Equation: Y = 18.00 + 11.00X\n",
            "Predicted Y for X=7: 95.00\n"
          ]
        },
        {
          "output_type": "display_data",
          "data": {
            "text/plain": [
              "<Figure size 640x480 with 1 Axes>"
            ],
            "image/png": "[encoded data removed]"
          },
          "metadata": {}
        }
      ]
    },
    {
      "cell_type": "markdown",
      "source": [
        "PROGRAM 10\n"
      ],
      "metadata": {
        "id": "-mJ1HuMHqLbp"
      }
    },
    {
      "cell_type": "code",
      "source": [
        "import numpy as np\n",
        "import pandas as pd\n",
        "\n",
        "population = pd.DataFrame({'Roll_No': range(1, 31)})\n",
        "population['Gender'] = ['M']*20 + ['F']*10\n",
        "\n",
        "simple_sample = population.sample(n=5)\n",
        "stratified_sample = population.groupby('Gender', group_keys=False).apply(lambda x: x.sample(frac=0.2))\n",
        "k = 5\n",
        "start = np.random.randint(0, k)\n",
        "systematic_sample = population.iloc[start::k]\n",
        "\n",
        "print(\"Simple Random Sample:\\n\", simple_sample)\n",
        "print(\"\\nStratified Sample:\\n\", stratified_sample)\n",
        "print(\"\\nSystematic Sample:\\n\", systematic_sample)\n"
      ],
      "metadata": {
        "id": "yapFGirVqORG",
        "outputId": "3bf3a272-177e-4ae4-df0e-151cdb78c0d1",
        "colab": {
          "base_uri": "https://localhost:8080/"
        }
      },
      "execution_count": 1,
      "outputs": [
        {
          "output_type": "stream",
          "name": "stdout",
          "text": [
            "Simple Random Sample:\n",
            "     Roll_No Gender\n",
            "26       27      F\n",
            "21       22      F\n",
            "15       16      M\n",
            "0         1      M\n",
            "24       25      F\n",
            "\n",
            "Stratified Sample:\n",
            "     Roll_No Gender\n",
            "27       28      F\n",
            "24       25      F\n",
            "19       20      M\n",
            "18       19      M\n",
            "11       12      M\n",
            "14       15      M\n",
            "\n",
            "Systematic Sample:\n",
            "     Roll_No Gender\n",
            "1         2      M\n",
            "6         7      M\n",
            "11       12      M\n",
            "16       17      M\n",
            "21       22      F\n",
            "26       27      F\n"
          ]
        },
        {
          "output_type": "stream",
          "name": "stderr",
          "text": [
            "/tmp/ipython-input-3756034777.py:8: DeprecationWarning: DataFrameGroupBy.apply operated on the grouping columns. This behavior is deprecated, and in a future version of pandas the grouping columns will be excluded from the operation. Either pass `include_groups=False` to exclude the groupings or explicitly select the grouping columns after groupby to silence this warning.\n",
            "  stratified_sample = population.groupby('Gender', group_keys=False).apply(lambda x: x.sample(frac=0.2))\n"
          ]
        }
      ]
    },
    {
      "cell_type": "code",
      "source": [],
      "metadata": {
        "id": "kUpqrXrzqXbQ"
      },
      "execution_count": null,
      "outputs": []
    }
  ]
}